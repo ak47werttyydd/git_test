{
 "cells": [
  {
   "cell_type": "code",
   "execution_count": 1,
   "id": "487975c2",
   "metadata": {},
   "outputs": [],
   "source": [
    "import importlib\n",
    "import torch\n",
    "import torch.nn as nn\n",
    "import itertools\n",
    "from collections import OrderedDict \n",
    "import onnx\n",
    "import tvm\n",
    "from onnx import shape_inference\n",
    "import copy\n",
    "import onnxruntime as rt\n",
    "from tvm.contrib import graph_executor\n",
    "from itertools import combinations\n",
    "import numpy as np\n",
    "\n",
    "import os\n",
    "import graph_generator.op_constraint as opc\n",
    "import graph_generator.op_projection as opp\n",
    "import graph_generator.random_graph as rg\n",
    "import graph_generator.utility\n",
    "import graph_generator.graph_debug as gd\n",
    "import utility"
   ]
  },
  {
   "cell_type": "code",
   "execution_count": 2,
   "id": "88d1cc62",
   "metadata": {},
   "outputs": [],
   "source": [
    "combined_model = torch.load(\"graph_generator/cell4_p6_ER_bug/0_test_error_model.pt\")\n",
    "recorder = torch.load(\"graph_generator/cell4_p6_ER_bug/0_test_error_recorder.pt\")"
   ]
  },
  {
   "cell_type": "markdown",
   "id": "36b20616",
   "metadata": {},
   "source": [
    "### First debug for every cell"
   ]
  },
  {
   "cell_type": "code",
   "execution_count": 40,
   "id": "69c4955f",
   "metadata": {},
   "outputs": [],
   "source": [
    "cell_num = len(recorder.sub_graph_params)\n",
    "for index in range(cell_num):\n",
    "    test_cell = opp.Cell(1, *recorder.sub_graph_params[index][1])\n",
    "    test_cell = test_cell.eval()\n",
    "    cell, error_result = gd.find_bugs_in_cell_level(test_cell, gd.test_under_pytorch, exec=\"debug\")\n",
    "    if error_result is not None:\n",
    "        print(\"Find error cell! Idx: {}\".format(index))\n",
    "        raise Exception\n",
    "print(\"Cell all good\")"
   ]
  },
  {
   "cell_type": "markdown",
   "id": "d0aa46d0",
   "metadata": {},
   "source": [
    "### Debug sub-graphs"
   ]
  },
  {
   "cell_type": "code",
   "execution_count": 7,
   "id": "658fad9e",
   "metadata": {},
   "outputs": [],
   "source": [
    "def rebuild_subgraphs(model, recorder, index_list):\n",
    "    rebuild_subgraphs = list()\n",
    "    init_input_shape = recorder.sub_graph_params[index_list[0]][-4]\n",
    "    for idx in index_list:\n",
    "        input_shape = recorder.sub_graph_params[idx][-4]\n",
    "        output_shape = model[idx].output_shape\n",
    "        #cell_graph = opp.get_cell(output_shape)\n",
    "        params = copy.deepcopy(recorder.sub_graph_params[idx])\n",
    "        rebuild_subgraph = rg.TestSubgraph(*params)\n",
    "        rebuild_subgraphs.append(rebuild_subgraph)\n",
    "    return init_input_shape, rebuild_subgraphs"
   ]
  },
  {
   "cell_type": "code",
   "execution_count": 74,
   "id": "ce9059d7",
   "metadata": {},
   "outputs": [],
   "source": [
    "index = 3\n",
    "input_shape = recorder.sub_graph_params[index][-4]\n",
    "output_shape = combined_model[index].output_shape\n",
    "cell_graph = opp.get_cell(output_shape)\n",
    "params = copy.deepcopy(recorder.sub_graph_params[index])\n",
    "#params[1] = cell_graph \n",
    "rebuild_subgraph1 = rg.TestSubgraph(*params)"
   ]
  },
  {
   "cell_type": "code",
   "execution_count": 8,
   "id": "f5799ed5",
   "metadata": {},
   "outputs": [],
   "source": [
    "init_input_shape, debug_graphs = rebuild_subgraphs(combined_model, recorder, [0, 2, 3])\n",
    "debug_graphs = torch.nn.Sequential(*debug_graphs)"
   ]
  },
  {
   "cell_type": "code",
   "execution_count": 9,
   "id": "087a3cd6",
   "metadata": {
    "scrolled": true
   },
   "outputs": [
    {
     "name": "stderr",
     "output_type": "stream",
     "text": [
      "/home/malei/.local/lib/python3.8/site-packages/torch/_tensor.py:575: UserWarning: floor_divide is deprecated, and will be removed in a future version of pytorch. It currently rounds toward 0 (like the 'trunc' function NOT 'floor'). This results in incorrect rounding for negative values.\n",
      "To keep the current behavior, use torch.div(a, b, rounding_mode='trunc'), or for actual floor division, use torch.div(a, b, rounding_mode='floor'). (Triggered internally at  /pytorch/aten/src/ATen/native/BinaryOps.cpp:467.)\n",
      "  return torch.floor_divide(self, other)\n"
     ]
    }
   ],
   "source": [
    "random_input = torch.randn(init_input_shape)\n",
    "result = gd.test_under_pytorch(debug_graphs, random_input, \"normal\", 3)"
   ]
  },
  {
   "cell_type": "code",
   "execution_count": null,
   "id": "9fde57c4",
   "metadata": {},
   "outputs": [],
   "source": [
    "#### sub cell ordered combinations"
   ]
  },
  {
   "cell_type": "code",
   "execution_count": 6,
   "id": "6df7750c",
   "metadata": {},
   "outputs": [],
   "source": [
    "def find_connected_sequence(index_list, length):\n",
    "    assert length <= len(index_list)\n",
    "    result = list()\n",
    "    for i in range(len(index_list)-length+1):\n",
    "        result.append(index_list[i : i + length])\n",
    "    return result\n",
    "\n",
    "def find_minimal_bug_cells(model, recorder, cell_idx_list, opt_level=3):\n",
    "    print(\"Begin exploring {} sequence\".format(cell_idx_list))\n",
    "    sub_cell_length = len(cell_idx_list) - 1\n",
    "    sub_cell_idx_list = find_connected_sequence(cell_idx_list, sub_cell_length)\n",
    "    for seq in sub_cell_idx_list:\n",
    "        seq = sorted(seq)\n",
    "        init_input_shape, debug_graphs = rebuild_subgraphs(model, recorder, seq)\n",
    "        debug_graphs = torch.nn.Sequential(*debug_graphs)\n",
    "        random_input = torch.randn(init_input_shape)\n",
    "        result = gd.test_under_pytorch(debug_graphs, random_input, \"normal\", opt_level)\n",
    "        if result[1] is not None:\n",
    "            # Find the bug sub cells\n",
    "            print(\"Find bug for sequence: {}, bug info: {}\".format(seq, result[1]))\n",
    "            sub_seq = find_minimal_bug_cells(model, recorder, seq)\n",
    "            return sub_seq\n",
    "    return cell_idx_list"
   ]
  },
  {
   "cell_type": "code",
   "execution_count": 19,
   "id": "5e6d7c50",
   "metadata": {},
   "outputs": [
    {
     "name": "stdout",
     "output_type": "stream",
     "text": [
      "Begin exploring [0, 1, 2, 3] sequence\n"
     ]
    },
    {
     "name": "stderr",
     "output_type": "stream",
     "text": [
      "For x86 target, depthwise_conv2d with channel multiplier greater than 1 is not optimized\n",
      "For x86 target, depthwise_conv2d with channel multiplier greater than 1 is not optimized\n",
      "For x86 target, depthwise_conv2d with channel multiplier greater than 1 is not optimized\n",
      "For x86 target, depthwise_conv2d with channel multiplier greater than 1 is not optimized\n",
      "For x86 target, depthwise_conv2d with channel multiplier greater than 1 is not optimized\n",
      "For x86 target, depthwise_conv2d with channel multiplier greater than 1 is not optimized\n",
      "For x86 target, depthwise_conv2d with channel multiplier greater than 1 is not optimized\n",
      "For x86 target, depthwise_conv2d with channel multiplier greater than 1 is not optimized\n",
      "For x86 target, depthwise_conv2d with channel multiplier greater than 1 is not optimized\n",
      "For x86 target, depthwise_conv2d with channel multiplier greater than 1 is not optimized\n"
     ]
    },
    {
     "name": "stdout",
     "output_type": "stream",
     "text": [
      "Find bug for sequence: [1, 2, 3], bug info: \n",
      "Not equal to tolerance rtol=0.01, atol=0.01\n",
      "\n",
      "x and y -inf location mismatch:\n",
      " x: array([[[[ -74.31442 , -126.72563 , -111.86792 , ...,   -2.6567  ,\n",
      "            -2.705109,   -3.041387],\n",
      "         [ -60.686405, -128.05017 ,  -93.24954 , ...,   -2.662258,...\n",
      " y: array([[[[ -74.31447 , -126.72558 , -111.86785 , ...,   -2.6567  ,\n",
      "            -2.705109,   -3.041387],\n",
      "         [ -60.686382, -128.05008 ,  -93.24952 , ...,   -2.662258,...\n",
      "Begin exploring [1, 2, 3] sequence\n"
     ]
    },
    {
     "name": "stderr",
     "output_type": "stream",
     "text": [
      "For x86 target, depthwise_conv2d with channel multiplier greater than 1 is not optimized\n",
      "For x86 target, depthwise_conv2d with channel multiplier greater than 1 is not optimized\n",
      "For x86 target, depthwise_conv2d with channel multiplier greater than 1 is not optimized\n",
      "For x86 target, depthwise_conv2d with channel multiplier greater than 1 is not optimized\n",
      "For x86 target, depthwise_conv2d with channel multiplier greater than 1 is not optimized\n"
     ]
    },
    {
     "data": {
      "text/plain": [
       "[1, 2, 3]"
      ]
     },
     "execution_count": 19,
     "metadata": {},
     "output_type": "execute_result"
    }
   ],
   "source": [
    "find_minimal_bug_cells(combined_model, recorder, [i for i in range(len(combined_model))])"
   ]
  },
  {
   "cell_type": "code",
   "execution_count": 10,
   "id": "dd5417f9",
   "metadata": {},
   "outputs": [],
   "source": [
    "def test_under_pytorch(model, random_input, exec=\"normal\", opt_level=3):\n",
    "    rtol = 1e-2\n",
    "    atol = 1e-2\n",
    "    mod, params = utility.torch2relay(model, random_input)\n",
    "    lib = utility.build_relay(mod, params=params, opt_level=opt_level)\n",
    "    with torch.no_grad():\n",
    "        if isinstance(random_input, list) or isinstance(random_input, tuple):\n",
    "            baseline_outputs = model(*random_input)\n",
    "            baseline_input = [i.numpy() for i in random_input]\n",
    "        else:\n",
    "            baseline_outputs = model(random_input)\n",
    "            baseline_input = [random_input.numpy()]\n",
    "        input_name = [\"input{}\".format(i) for i in range(len(baseline_input))] # See utility.torch2relay\n",
    "    return [lib, tvm.cpu(0), baseline_input, [baseline_outputs.numpy()], rtol, atol, exec, input_name]"
   ]
  },
  {
   "cell_type": "code",
   "execution_count": 11,
   "id": "a15f417c",
   "metadata": {},
   "outputs": [
    {
     "name": "stderr",
     "output_type": "stream",
     "text": [
      "For x86 target, depthwise_conv2d with channel multiplier greater than 1 is not optimized\n",
      "For x86 target, depthwise_conv2d with channel multiplier greater than 1 is not optimized\n",
      "For x86 target, depthwise_conv2d with channel multiplier greater than 1 is not optimized\n",
      "For x86 target, depthwise_conv2d with channel multiplier greater than 1 is not optimized\n",
      "For x86 target, depthwise_conv2d with channel multiplier greater than 1 is not optimized\n"
     ]
    }
   ],
   "source": [
    "init_input_shape, debug_graphs = rebuild_subgraphs(combined_model, recorder, [1, 2, 3])\n",
    "debug_graphs = torch.nn.Sequential(*debug_graphs)\n",
    "random_input = torch.randn(init_input_shape)\n",
    "test_list = test_under_pytorch(debug_graphs, random_input, \"normal\", 3)"
   ]
  },
  {
   "cell_type": "code",
   "execution_count": 14,
   "id": "27058645",
   "metadata": {},
   "outputs": [],
   "source": [
    "test_list = test_list + [True]"
   ]
  },
  {
   "cell_type": "code",
   "execution_count": 16,
   "id": "d1d2d211",
   "metadata": {},
   "outputs": [],
   "source": [
    "result = utility.verify_compiled_model(*test_list)"
   ]
  },
  {
   "cell_type": "code",
   "execution_count": null,
   "id": "58ba8d71",
   "metadata": {},
   "outputs": [],
   "source": []
  },
  {
   "cell_type": "code",
   "execution_count": 18,
   "id": "1ec18ef4",
   "metadata": {
    "scrolled": true
   },
   "outputs": [
    {
     "data": {
      "text/plain": [
       "[array([[[[ -74.31086  , -127.218544 , -111.81207  , ...,   -2.688539 ,\n",
       "             -2.805067 ,   -3.1428323],\n",
       "          [ -61.21711  , -129.10709  ,  -92.84157  , ...,   -2.6428006,\n",
       "             -2.690722 ,   -3.1447124],\n",
       "          [ -64.556206 ,         -inf, -129.62233  , ...,   -2.791613 ,\n",
       "             -2.7879748,   -3.1077762],\n",
       "          ...,\n",
       "          [ -68.51478  ,         -inf,         -inf, ...,   -2.6383305,\n",
       "             -2.7485623,   -3.2475314],\n",
       "          [-102.9821   ,         -inf,         -inf, ...,   -2.752676 ,\n",
       "             -2.7756639,   -3.1942592],\n",
       "          [-102.75902  ,         -inf,         -inf, ...,   -2.6680007,\n",
       "             -2.7510037,   -3.176314 ]],\n",
       " \n",
       "         [[-110.147255 , -130.86389  ,  -56.031063 , ...,   -2.6187077,\n",
       "             -2.8881493,   -2.9271832],\n",
       "          [-124.23634  ,         -inf,  -76.73361  , ...,   -2.689084 ,\n",
       "             -2.8741283,   -2.8716474],\n",
       "          [ -70.76816  , -104.69658  ,  -24.948404 , ...,   -2.7171142,\n",
       "             -2.7673326,   -3.0096173],\n",
       "          ...,\n",
       "          [ -63.895035 , -105.985245 ,  -27.593008 , ...,   -2.7381105,\n",
       "             -2.7885606,   -3.1821063],\n",
       "          [ -49.609825 ,  -66.99562  ,   -2.9400568, ...,   -2.7338266,\n",
       "             -2.8967857,   -3.0490746],\n",
       "          [ -49.507484 ,  -67.04648  ,   -2.953147 , ...,   -2.7883701,\n",
       "             -2.949681 ,   -2.9408073]],\n",
       " \n",
       "         [[  -3.0322878,  -93.704056 ,  -89.783394 , ...,   -2.886568 ,\n",
       "             -2.742037 ,   -3.0725574],\n",
       "          [  -3.2266965, -101.51643  , -101.66722  , ...,   -2.6552858,\n",
       "             -2.7678015,   -3.1680903],\n",
       "          [  -9.921444 , -123.41805  ,  -91.87504  , ...,   -2.6338105,\n",
       "             -2.6220942,   -3.1561718],\n",
       "          ...,\n",
       "          [  -8.167084 ,         -inf, -110.47684  , ...,   -2.6582851,\n",
       "             -2.5291014,   -3.3992453],\n",
       "          [  -3.3389926,         -inf, -122.83395  , ...,   -2.682849 ,\n",
       "             -2.6452093,   -3.348215 ],\n",
       "          [  -3.236888 ,         -inf, -122.02637  , ...,   -2.6122556,\n",
       "             -2.5871437,   -3.4113362]],\n",
       " \n",
       "         ...,\n",
       " \n",
       "         [[ -73.95422  ,  -24.81567  , -132.80167  , ...,   -3.0308366,\n",
       "             -3.088605 ,   -3.0267465],\n",
       "          [-110.91383  ,  -32.161762 , -132.5353   , ...,   -2.9361596,\n",
       "             -3.4224882,   -3.0238237],\n",
       "          [ -92.32615  ,  -17.052567 ,  -85.2966   , ...,   -3.100753 ,\n",
       "             -3.2725968,   -3.0960698],\n",
       "          ...,\n",
       "          [-121.617096 ,  -38.17459  , -122.111084 , ...,   -2.9231584,\n",
       "             -3.418747 ,   -3.057776 ],\n",
       "          [ -50.177753 ,   -1.6654356,  -44.31478  , ...,   -2.809853 ,\n",
       "             -3.0381966,   -2.9865701],\n",
       "          [ -49.678288 ,   -1.5928681,  -45.062023 , ...,   -2.81711  ,\n",
       "             -2.9850526,   -2.9593072]],\n",
       " \n",
       "         [[  -1.3862944,   -1.3862944,   -1.3883417, ...,   -2.732022 ,\n",
       "             -2.4603498,   -2.4847307],\n",
       "          [  -1.3862944,   -1.3862944,   -1.3961945, ...,   -2.8624322,\n",
       "             -2.5032697,   -2.5992613],\n",
       "          [  -1.3862944,   -1.3862944,   -3.1698956, ...,   -2.8762527,\n",
       "             -2.5453196,   -2.5328941],\n",
       "          ...,\n",
       "          [  -1.3862944,   -1.3862944,   -7.710552 , ...,   -2.9392807,\n",
       "             -2.5592813,   -2.6391006],\n",
       "          [  -1.3862944,   -1.3862944,  -29.14024  , ...,   -2.8476312,\n",
       "             -2.6145844,   -2.5572462],\n",
       "          [  -1.3862944,   -1.3862944,  -28.989388 , ...,   -2.8932166,\n",
       "             -2.6750598,   -2.6463509]],\n",
       " \n",
       "         [[ -21.068813 ,  -27.737461 ,  -81.47548  , ...,   -2.7560477,\n",
       "             -2.9479795,   -2.736088 ],\n",
       "          [ -18.96726  ,  -16.749296 ,  -81.7834   , ...,   -2.835061 ,\n",
       "             -2.8766923,   -2.608436 ],\n",
       "          [ -12.052947 ,  -31.652546 , -109.273575 , ...,   -2.757008 ,\n",
       "             -2.8660452,   -2.5858428],\n",
       "          ...,\n",
       "          [ -13.021318 ,  -59.906765 ,         -inf, ...,   -2.7819984,\n",
       "             -2.8628292,   -2.5749717],\n",
       "          [ -69.3487   ,  -98.59955  ,         -inf, ...,   -2.6451244,\n",
       "             -2.8986006,   -2.5731592],\n",
       "          [ -68.54318  ,  -98.115875 ,         -inf, ...,   -2.6979012,\n",
       "             -2.8664784,   -2.5803912]]]], dtype=float32)]"
      ]
     },
     "execution_count": 18,
     "metadata": {},
     "output_type": "execute_result"
    }
   ],
   "source": [
    "result['tvm']"
   ]
  }
 ],
 "metadata": {
  "kernelspec": {
   "display_name": "Python 3 (ipykernel)",
   "language": "python",
   "name": "python3"
  },
  "language_info": {
   "codemirror_mode": {
    "name": "ipython",
    "version": 3
   },
   "file_extension": ".py",
   "mimetype": "text/x-python",
   "name": "python",
   "nbconvert_exporter": "python",
   "pygments_lexer": "ipython3",
   "version": "3.9.7"
  }
 },
 "nbformat": 4,
 "nbformat_minor": 5
}
