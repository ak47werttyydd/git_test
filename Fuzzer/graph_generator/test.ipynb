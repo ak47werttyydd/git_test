{
 "cells": [
  {
   "cell_type": "code",
   "execution_count": 1,
   "metadata": {},
   "outputs": [],
   "source": [
    "import importlib\n",
    "import torch\n",
    "import torch.nn as nn\n",
    "import itertools\n",
    "from collections import OrderedDict \n",
    "import onnx\n",
    "import tvm\n",
    "from onnx import shape_inference\n",
    "\n",
    "import op_constraint as opc\n",
    "import op_projection as opp\n",
    "import random_graph as rg\n",
    "import utility\n",
    "import graph_debug as gd\n",
    "import networkx as nx\n",
    "import matplotlib.pyplot as plt\n"
   ]
  },
  {
   "cell_type": "code",
   "execution_count": 7,
   "metadata": {},
   "outputs": [
    {
     "data": {
      "text/plain": [
       "<module 'graph_debug' from '/home/newuser/ruochen_workspace/TVMGraphFuzzer/Fuzzer/graph_generator/graph_debug.py'>"
      ]
     },
     "execution_count": 7,
     "metadata": {},
     "output_type": "execute_result"
    }
   ],
   "source": [
    "importlib.reload(rg)  #Reload a previously imported module\n",
    "importlib.reload(opc)\n",
    "importlib.reload(opp)\n",
    "importlib.reload(utility)\n",
    "importlib.reload(gd)"
   ]
  },
  {
   "cell_type": "code",
   "execution_count": 2,
   "metadata": {},
   "outputs": [],
   "source": [
    "\n",
    "graph_gen_parameter = {\n",
    "    \"node_num\":5, \n",
    "    \"graph_mode\":\"ER\", \n",
    "    \"p\":0.3\n",
    "}\n",
    "\n",
    "input_shapes = [[1, 3, 224, 224], [1, 6, 112, 112], [1, 12, 56, 56], [1, 24, 28, 28]]\n",
    "output_shapes = [[1, 6, 112, 112], [1, 12, 56, 56], [1, 24, 28, 28], [1, 36, 14, 14]]\n",
    "input_shapes = input_shapes[:3]\n",
    "output_shapes = output_shapes[:3]\n"
   ]
  },
  {
   "cell_type": "code",
   "execution_count": 3,
   "metadata": {},
   "outputs": [
    {
     "name": "stdout",
     "output_type": "stream",
     "text": [
      "{'p': 0.3}\n"
     ]
    }
   ],
   "source": [
    "'''generate RandomGraph object'''\n",
    "graph1=rg.RandomGraph(**graph_gen_parameter)\n",
    "print(graph1.graph_param)    \n",
    "#node_num and graph_mode are accepted by the two args on the left\n",
    "#p is accepted by the **graph_param.  graph_param in the RandomGraph is dict {'p': 0.3}\n",
    "\n",
    "'''output\n",
    "{'p': 0.3}\n",
    "'''\n"
   ]
  },
  {
   "cell_type": "code",
   "execution_count": 6,
   "metadata": {},
   "outputs": [
    {
     "name": "stdout",
     "output_type": "stream",
     "text": [
      "{'a': '01', 'b': '02'}\n",
      "a is 01\n",
      "b is 02\n"
     ]
    }
   ],
   "source": [
    "#test **dict\n",
    "def fun(a,b):\n",
    "    print(f'a is {a}')\n",
    "    print(f'b is {b}')\n",
    "\n",
    "# keyword={'a':'01','b':'02','c':'03'}  #if the dict has the arg undefined in fun, assert error\n",
    "# print(keyword)\n",
    "# fun(**keyword)\n",
    "\n",
    "keyword={'a':'01','b':'02'}\n",
    "print(keyword)\n",
    "fun(**keyword)\n",
    "\n",
    "'''output\n",
    "{'a': '01', 'b': '02'}\n",
    "a is 01\n",
    "b is 02\n",
    "'''"
   ]
  },
  {
   "cell_type": "code",
   "execution_count": 7,
   "metadata": {},
   "outputs": [
    {
     "name": "stdout",
     "output_type": "stream",
     "text": [
      "a is 1\n",
      "b is 2\n",
      "args is {'c': 3, 'd': 4}\n"
     ]
    }
   ],
   "source": [
    "#test **dict\n",
    "def fun(a,b,**args):\n",
    "  print(f'a is {a}')\n",
    "  print(f'b is {b}')\n",
    "  print(f'args is {args}')\n",
    "\n",
    "input={'a':1,'b':2,'c':3,'d':4}\n",
    "fun(**input)\n",
    "\n",
    "'''output\n",
    "a is 1\n",
    "b is 2\n",
    "args is {'c': 3, 'd': 4}\n",
    "'''"
   ]
  },
  {
   "cell_type": "code",
   "execution_count": 28,
   "metadata": {},
   "outputs": [],
   "source": [
    "'''generate graph'''\n",
    "graph1._random_graph_generator() #graph_mode is ER\n",
    "#print(graph1.graph)\n"
   ]
  },
  {
   "cell_type": "code",
   "execution_count": 24,
   "metadata": {},
   "outputs": [
    {
     "data": {
      "text/plain": [
       "NodeView((0, 1, 2, 3, 4))"
      ]
     },
     "execution_count": 24,
     "metadata": {},
     "output_type": "execute_result"
    }
   ],
   "source": [
    "graph1.graph.nodes\n",
    "\n",
    "'''\n",
    "NodeView((0, 1, 2, 3, 4))\n",
    "'''\n"
   ]
  },
  {
   "cell_type": "code",
   "execution_count": 22,
   "metadata": {},
   "outputs": [
    {
     "data": {
      "text/plain": [
       "EdgeView([(0, 1), (0, 3), (0, 4), (1, 2)])"
      ]
     },
     "execution_count": 22,
     "metadata": {},
     "output_type": "execute_result"
    }
   ],
   "source": [
    "graph1.graph.edges\n",
    "''' \n",
    "EdgeView([(0, 1), (0, 3), (0, 4), (1, 2)])\n",
    "'''"
   ]
  },
  {
   "cell_type": "code",
   "execution_count": 29,
   "metadata": {},
   "outputs": [
    {
     "data": {
      "image/png": "[encoded data removed]",
      "text/plain": [
       "<Figure size 432x288 with 1 Axes>"
      ]
     },
     "metadata": {},
     "output_type": "display_data"
    }
   ],
   "source": [
    "nx.draw_shell(graph1.graph, nlist=[range(2, 5), range(2)], with_labels=True, font_weight='bold')\n",
    "#ER doesn't generate "
   ]
  },
  {
   "cell_type": "code",
   "execution_count": 26,
   "metadata": {},
   "outputs": [
    {
     "name": "stdout",
     "output_type": "stream",
     "text": [
      "node 0's neighbor is []\n",
      "node 1's neighbor is [2, 4]\n",
      "node 2's neighbor is [1, 3]\n",
      "node 3's neighbor is [2]\n",
      "node 4's neighbor is [1]\n",
      "[0, 1, 2, 3, 4, 5, 6]\n",
      "OrderedDict([(0, []), (1, [0]), (2, [0]), (3, [2]), (4, [3]), (5, [2]), (6, [1, 4, 5])])\n"
     ]
    }
   ],
   "source": [
    "'''parse_graph()'''\n",
    "#it adds an input and an output nodes\n",
    "#\n",
    "nodes,edges=rg.RandomGraph.parse_graph(graph1.graph)\n",
    "print(nodes)\n",
    "print(edges)\n",
    "\n",
    "'''\n",
    "[0, 1, 2, 3, 4, 5, 6]\n",
    "OrderedDict([(0, []), (1, [0]), (2, [0]), (3, [2]), (4, [3]), (5, [2]), (6, [1, 4, 5])])\n",
    "'''"
   ]
  },
  {
   "cell_type": "code",
   "execution_count": 35,
   "metadata": {},
   "outputs": [
    {
     "name": "stdout",
     "output_type": "stream",
     "text": [
      "OrderedDict([(0, []), ('1', 2)])\n",
      "2\n"
     ]
    }
   ],
   "source": [
    "'''test OrderedDict()'''\n",
    "edge=OrderedDict()\n",
    "edge[0]=[]    #0 is key\n",
    "edge['1']=2   #'1' is key\n",
    "print(edge)\n",
    "print(edge['1'])"
   ]
  },
  {
   "cell_type": "code",
   "execution_count": 10,
   "metadata": {},
   "outputs": [
    {
     "name": "stdout",
     "output_type": "stream",
     "text": [
      "solutions are [{'x': 3, 'y': 9}, {'x': 3, 'y': 8}, {'x': 3, 'y': 7}, {'x': 3, 'y': 6}, {'x': 3, 'y': 5}, {'x': 3, 'y': 4}, {'x': 3, 'y': 3}, {'x': 3, 'y': 2}, {'x': 2, 'y': 9}, {'x': 2, 'y': 8}, {'x': 2, 'y': 7}, {'x': 2, 'y': 6}, {'x': 2, 'y': 5}, {'x': 2, 'y': 4}, {'x': 2, 'y': 3}, {'x': 1, 'y': 9}, {'x': 1, 'y': 8}, {'x': 1, 'y': 7}, {'x': 1, 'y': 6}, {'x': 1, 'y': 5}, {'x': 1, 'y': 4}]\n",
      "-------------------------------\n",
      "enumerate solutions are <enumerate object at 0x7f1a94afa6e0>\n",
      "-----------------------------------\n",
      "the 0th solution is (0, {'x': 3, 'y': 9})\n",
      "the 1th solution is (1, {'x': 3, 'y': 8})\n",
      "the 2th solution is (2, {'x': 3, 'y': 7})\n",
      "the 3th solution is (3, {'x': 3, 'y': 6})\n",
      "the 4th solution is (4, {'x': 3, 'y': 5})\n",
      "the 5th solution is (5, {'x': 3, 'y': 4})\n",
      "the 6th solution is (6, {'x': 3, 'y': 3})\n",
      "the 7th solution is (7, {'x': 3, 'y': 2})\n",
      "the 8th solution is (8, {'x': 2, 'y': 9})\n",
      "the 9th solution is (9, {'x': 2, 'y': 8})\n",
      "the 10th solution is (10, {'x': 2, 'y': 7})\n",
      "the 11th solution is (11, {'x': 2, 'y': 6})\n",
      "the 12th solution is (12, {'x': 2, 'y': 5})\n",
      "the 13th solution is (13, {'x': 2, 'y': 4})\n",
      "the 14th solution is (14, {'x': 2, 'y': 3})\n",
      "the 15th solution is (15, {'x': 1, 'y': 9})\n",
      "the 16th solution is (16, {'x': 1, 'y': 8})\n",
      "the 17th solution is (17, {'x': 1, 'y': 7})\n",
      "the 18th solution is (18, {'x': 1, 'y': 6})\n",
      "the 19th solution is (19, {'x': 1, 'y': 5})\n",
      "the 20th solution is (20, {'x': 1, 'y': 4})\n",
      "------------------------------------\n",
      "(x,y) ∈ {(3,9),(3,8),(3,7),(3,6),(3,5),(3,4),(3,3),(3,2),(2,9),(2,8),(2,7),(2,6),(2,5),(2,4),(2,3),(1,9),(1,8),(1,7),(1,6),(1,5),(1,4)}\n"
     ]
    }
   ],
   "source": [
    "# test constraint\n",
    "import constraint\n",
    "\n",
    "problem = constraint.Problem()\n",
    "\n",
    "problem.addVariable('x', [1,2,3])\n",
    "problem.addVariable('y', range(10))\n",
    "\n",
    "def our_constraint(x, y):\n",
    "    if x + y >= 5:\n",
    "        return True\n",
    "\n",
    "problem.addConstraint(our_constraint, ['x','y'])\n",
    "\n",
    "solutions = problem.getSolutions()\n",
    "\n",
    "print(f'solutions are {solutions}') #a list, elements are dict\n",
    "print('-------------------------------')\n",
    "print(f'enumerate solutions are {enumerate(solutions)}')\n",
    "print('-----------------------------------')\n",
    "# print(f'enumerate(solutions)[0] are {enumerate(solutions)[0]}') #can't substriptable\n",
    "# print('-----------------------------------')\n",
    "i=0\n",
    "for a in enumerate(solutions): \n",
    "    print(f'the {i}th solution is {a}')   #tuple (0, {'x': 3, 'y': 9}). i.e. change list to a tuple (index,element)\n",
    "    i=i+1\n",
    "print('------------------------------------')\n",
    "\n",
    "# Easier way to print and see all solutions\n",
    "# for solution in solutions:\n",
    "#    print(solution)\n",
    "\n",
    "# Prettier way to print and see all solutions\n",
    "length = len(solutions)\n",
    "print(\"(x,y) ∈ {\", end=\"\")\n",
    "for index, solution in enumerate(solutions):\n",
    "    if index == length - 1:\n",
    "        print(\"({},{})\".format(solution['x'], solution['y']), end=\"\")\n",
    "    else:\n",
    "        print(\"({},{}),\".format(solution['x'], solution['y']), end=\"\")\n",
    "print(\"}\")"
   ]
  },
  {
   "cell_type": "code",
   "execution_count": 11,
   "metadata": {},
   "outputs": [
    {
     "data": {
      "text/plain": [
       "['_C_constraint',\n",
       " '_H_constraint',\n",
       " '_W_constraint',\n",
       " '__abstractmethods__',\n",
       " '__class__',\n",
       " '__delattr__',\n",
       " '__dict__',\n",
       " '__dir__',\n",
       " '__doc__',\n",
       " '__eq__',\n",
       " '__format__',\n",
       " '__ge__',\n",
       " '__getattribute__',\n",
       " '__gt__',\n",
       " '__hash__',\n",
       " '__init__',\n",
       " '__init_subclass__',\n",
       " '__le__',\n",
       " '__lt__',\n",
       " '__module__',\n",
       " '__ne__',\n",
       " '__new__',\n",
       " '__reduce__',\n",
       " '__reduce_ex__',\n",
       " '__repr__',\n",
       " '__setattr__',\n",
       " '__sizeof__',\n",
       " '__str__',\n",
       " '__subclasshook__',\n",
       " '__weakref__',\n",
       " '_abc_impl',\n",
       " '_param_conversion',\n",
       " 'get_node',\n",
       " 'get_possible_params',\n",
       " 'get_split_info',\n",
       " 'input_conversion']"
      ]
     },
     "execution_count": 11,
     "metadata": {},
     "output_type": "execute_result"
    }
   ],
   "source": [
    "dir(opc.Conv2d)"
   ]
  },
  {
   "cell_type": "code",
   "execution_count": 2,
   "metadata": {},
   "outputs": [
    {
     "name": "stdout",
     "output_type": "stream",
     "text": [
      "inside fun, a is {'ruochen': 'handsome boy'}\n"
     ]
    },
    {
     "ename": "NameError",
     "evalue": "name 'a' is not defined",
     "output_type": "error",
     "traceback": [
      "\u001b[0;31m---------------------------------------------------------------------------\u001b[0m",
      "\u001b[0;31mNameError\u001b[0m                                 Traceback (most recent call last)",
      "\u001b[0;32m/tmp/ipykernel_1235737/2346991833.py\u001b[0m in \u001b[0;36m<module>\u001b[0;34m\u001b[0m\n\u001b[1;32m      6\u001b[0m \u001b[0;34m\u001b[0m\u001b[0m\n\u001b[1;32m      7\u001b[0m \u001b[0mfun\u001b[0m\u001b[0;34m(\u001b[0m\u001b[0;34m)\u001b[0m\u001b[0;34m\u001b[0m\u001b[0;34m\u001b[0m\u001b[0m\n\u001b[0;32m----> 8\u001b[0;31m \u001b[0mprint\u001b[0m\u001b[0;34m(\u001b[0m\u001b[0;34mf'outside fun, a is {a}'\u001b[0m\u001b[0;34m)\u001b[0m\u001b[0;34m\u001b[0m\u001b[0;34m\u001b[0m\u001b[0m\n\u001b[0m",
      "\u001b[0;31mNameError\u001b[0m: name 'a' is not defined"
     ]
    }
   ],
   "source": [
    "# test dict defined in function\n",
    "def fun():\n",
    "    a={}\n",
    "    a['ruochen']='handsome boy'\n",
    "    print(f'inside fun, a is {a}')\n",
    "\n",
    "fun()\n",
    "print(f'outside fun, a is {a}')   #not defined a"
   ]
  },
  {
   "cell_type": "code",
   "execution_count": 5,
   "metadata": {},
   "outputs": [
    {
     "name": "stdout",
     "output_type": "stream",
     "text": [
      "100\n"
     ]
    }
   ],
   "source": [
    "a={1:100,'b':1000}\n",
    "print(a[1])"
   ]
  },
  {
   "cell_type": "code",
   "execution_count": 16,
   "metadata": {},
   "outputs": [
    {
     "name": "stdout",
     "output_type": "stream",
     "text": [
      "node 0's neighbor is []\n",
      "node 1's neighbor is [2, 3]\n",
      "node 2's neighbor is [1, 3, 4]\n",
      "node 3's neighbor is [1, 2]\n",
      "node 4's neighbor is [2]\n",
      "input_cell is Conv2d(3, 6, kernel_size=(1, 4), stride=(2, 2), padding=(0, 1))\n",
      "cell_graph is (ModuleList(\n",
      "  (0): ConvTranspose2d(6, 6, kernel_size=(5, 3), stride=(1, 1), padding=(2, 1), bias=False)\n",
      "  (1): SplitWrapper()\n",
      "  (2): GroupNorm(2, 6, eps=0.01, affine=True)\n",
      "  (3): Dropout(p=0.2, inplace=False)\n",
      "  (4): GroupNorm(3, 6, eps=0.0001, affine=True)\n",
      "  (5): GroupNorm(3, 6, eps=0.1, affine=True)\n",
      "  (6): CatWrapper()\n",
      "  (7): LogSigmoid()\n",
      "), OrderedDict([(1, [0]), (2, [1]), (3, [2]), (4, [2]), (5, [2]), (6, [2]), (7, [3, 4, 5, 6]), (8, [7])]), OrderedDict([(1, [None]), (2, [None]), (3, [0]), (4, [1]), (5, [2]), (6, [3]), (7, [None, None, None, None]), (8, [None])]), OrderedDict([(0, [[1, 6, 112, 112]]), (1, [[1, 6, 112, 112]]), (2, [[1, 6, 112, 112]]), (3, [[1, 6, 112, 28]]), (4, [[1, 6, 112, 28]]), (5, [[1, 6, 112, 28]]), (6, [[1, 6, 112, 28]]), (7, [[1, 6, 112, 28], [1, 6, 112, 28], [1, 6, 112, 28], [1, 6, 112, 28]]), (8, [[1, 6, 112, 112]])]))\n"
     ]
    },
    {
     "data": {
      "text/plain": [
       "TestSubgraph(\n",
       "  (input_cell): Conv2d(3, 6, kernel_size=(1, 4), stride=(2, 2), padding=(0, 1))\n",
       "  (normal_cell_list): ModuleList(\n",
       "    (0): Cell(\n",
       "      (subnode_list): ModuleList(\n",
       "        (0): ConvTranspose2d(6, 6, kernel_size=(5, 3), stride=(1, 1), padding=(2, 1), bias=False)\n",
       "        (1): SplitWrapper()\n",
       "        (2): GroupNorm(2, 6, eps=0.01, affine=True)\n",
       "        (3): Dropout(p=0.2, inplace=False)\n",
       "        (4): GroupNorm(3, 6, eps=0.0001, affine=True)\n",
       "        (5): GroupNorm(3, 6, eps=0.1, affine=True)\n",
       "        (6): CatWrapper()\n",
       "        (7): LogSigmoid()\n",
       "      )\n",
       "    )\n",
       "    (1): Cell(\n",
       "      (subnode_list): ModuleList(\n",
       "        (0): ConvTranspose2d(6, 6, kernel_size=(5, 3), stride=(1, 1), padding=(2, 1), bias=False)\n",
       "        (1): SplitWrapper()\n",
       "        (2): GroupNorm(2, 6, eps=0.01, affine=True)\n",
       "        (3): Dropout(p=0.2, inplace=False)\n",
       "        (4): GroupNorm(3, 6, eps=0.0001, affine=True)\n",
       "        (5): GroupNorm(3, 6, eps=0.1, affine=True)\n",
       "        (6): CatWrapper()\n",
       "        (7): LogSigmoid()\n",
       "      )\n",
       "    )\n",
       "    (2): Cell(\n",
       "      (subnode_list): ModuleList(\n",
       "        (0): ConvTranspose2d(6, 6, kernel_size=(5, 3), stride=(1, 1), padding=(2, 1), bias=False)\n",
       "        (1): SplitWrapper()\n",
       "        (2): GroupNorm(2, 6, eps=0.01, affine=True)\n",
       "        (3): Dropout(p=0.2, inplace=False)\n",
       "        (4): GroupNorm(3, 6, eps=0.0001, affine=True)\n",
       "        (5): GroupNorm(3, 6, eps=0.1, affine=True)\n",
       "        (6): CatWrapper()\n",
       "        (7): LogSigmoid()\n",
       "      )\n",
       "    )\n",
       "    (3): Cell(\n",
       "      (subnode_list): ModuleList(\n",
       "        (0): ConvTranspose2d(6, 6, kernel_size=(5, 3), stride=(1, 1), padding=(2, 1), bias=False)\n",
       "        (1): SplitWrapper()\n",
       "        (2): GroupNorm(2, 6, eps=0.01, affine=True)\n",
       "        (3): Dropout(p=0.2, inplace=False)\n",
       "        (4): GroupNorm(3, 6, eps=0.0001, affine=True)\n",
       "        (5): GroupNorm(3, 6, eps=0.1, affine=True)\n",
       "        (6): CatWrapper()\n",
       "        (7): LogSigmoid()\n",
       "      )\n",
       "    )\n",
       "    (4): Cell(\n",
       "      (subnode_list): ModuleList(\n",
       "        (0): ConvTranspose2d(6, 6, kernel_size=(5, 3), stride=(1, 1), padding=(2, 1), bias=False)\n",
       "        (1): SplitWrapper()\n",
       "        (2): GroupNorm(2, 6, eps=0.01, affine=True)\n",
       "        (3): Dropout(p=0.2, inplace=False)\n",
       "        (4): GroupNorm(3, 6, eps=0.0001, affine=True)\n",
       "        (5): GroupNorm(3, 6, eps=0.1, affine=True)\n",
       "        (6): CatWrapper()\n",
       "        (7): LogSigmoid()\n",
       "      )\n",
       "    )\n",
       "  )\n",
       "  (output_cell): WeightSum()\n",
       ")"
      ]
     },
     "execution_count": 16,
     "metadata": {},
     "output_type": "execute_result"
    }
   ],
   "source": [
    "# test get_sub_graph\n",
    "rg.get_sub_graph(input_shapes[0],output_shapes[0],**graph_gen_parameter)"
   ]
  },
  {
   "cell_type": "code",
   "execution_count": 27,
   "metadata": {},
   "outputs": [
    {
     "name": "stdout",
     "output_type": "stream",
     "text": [
      "a is OrderedDict([(1, [1, 1, 1]), (2, [2, 2, 2])])\n",
      "a in test_getattr.py is GetattrTest\n",
      "hello\n",
      "class GetattrTest's instance b is <test_getattr.GetattrTest object at 0x7f761a645610>\n"
     ]
    }
   ],
   "source": [
    "# getattr\n",
    "\n",
    "import test_getattr\n",
    "print(f'a is {a}')\n",
    "print(f'a in test_getattr.py is {test_getattr.a}')\n",
    "\n",
    "b=getattr(test_getattr,test_getattr.a)()\n",
    "print(f'class GetattrTest\\'s instance b is {b}')\n",
    "\n"
   ]
  },
  {
   "cell_type": "code",
   "execution_count": 2,
   "metadata": {},
   "outputs": [
    {
     "name": "stdout",
     "output_type": "stream",
     "text": [
      "[2, 3]\n"
     ]
    }
   ],
   "source": [
    "print([i for i in range(2,4)])"
   ]
  },
  {
   "cell_type": "code",
   "execution_count": 3,
   "metadata": {},
   "outputs": [
    {
     "name": "stdout",
     "output_type": "stream",
     "text": [
      "4\n"
     ]
    }
   ],
   "source": [
    "# test variables defined in for\n",
    "for a in range(5):\n",
    "    b=a\n",
    "\n",
    "print(b)"
   ]
  },
  {
   "cell_type": "code",
   "execution_count": 11,
   "metadata": {},
   "outputs": [],
   "source": [
    "#test range(2,2)\n",
    "for a in range(2,2):\n",
    "    b=a\n",
    "    print(f'b is {b}')"
   ]
  },
  {
   "cell_type": "code",
   "execution_count": 24,
   "metadata": {},
   "outputs": [
    {
     "name": "stdout",
     "output_type": "stream",
     "text": [
      "node_constraint is {'input_shape': [64, 3, 64, 64]}\n",
      "corresponding result is [{'split_size_or_sections': 32, 'dim': 2}, {'split_size_or_sections': 21, 'dim': 2}, {'split_size_or_sections': 16, 'dim': 2}, {'split_size_or_sections': 32, 'dim': 3}, {'split_size_or_sections': 21, 'dim': 3}, {'split_size_or_sections': 16, 'dim': 3}]\n",
      "---------------------------------------------------------------\n",
      "input_shape is [64, 3, 64, 64]\n",
      "result[0] is {'split_size_or_sections': 32, 'dim': 2}\n",
      "layout_info is [[64, 3, 32, 64], [64, 3, 32, 64]]\n",
      "--------------------------------------------------\n",
      "input_shape is [64, 3, 64, 64]\n",
      "result[1] is {'split_size_or_sections': 21, 'dim': 2}\n",
      "layout_info is [[64, 3, 21, 64], [64, 3, 21, 64], [64, 3, 21, 64], [64, 3, 1, 64]]\n",
      "--------------------------------------------------\n",
      "input_shape is [64, 3, 64, 64]\n",
      "result[2] is {'split_size_or_sections': 16, 'dim': 2}\n",
      "layout_info is [[64, 3, 16, 64], [64, 3, 16, 64], [64, 3, 16, 64], [64, 3, 16, 64]]\n",
      "--------------------------------------------------\n",
      "input_shape is [64, 3, 64, 64]\n",
      "result[3] is {'split_size_or_sections': 32, 'dim': 3}\n",
      "layout_info is [[64, 3, 64, 32], [64, 3, 64, 32]]\n",
      "--------------------------------------------------\n",
      "input_shape is [64, 3, 64, 64]\n",
      "result[4] is {'split_size_or_sections': 21, 'dim': 3}\n",
      "layout_info is [[64, 3, 64, 21], [64, 3, 64, 21], [64, 3, 64, 21], [64, 3, 64, 1]]\n",
      "--------------------------------------------------\n",
      "input_shape is [64, 3, 64, 64]\n",
      "result[5] is {'split_size_or_sections': 16, 'dim': 3}\n",
      "layout_info is [[64, 3, 64, 16], [64, 3, 64, 16], [64, 3, 64, 16], [64, 3, 64, 16]]\n",
      "--------------------------------------------------\n"
     ]
    }
   ],
   "source": [
    "#test SplitCat class\n",
    "splitcat_node=opc.SplitCat()\n",
    "node_constraint={\"input_shape\":[64,3,64,64]}\n",
    "result=splitcat_node.get_possible_params(node_constraint)\n",
    "        \n",
    "print(f'node_constraint is {node_constraint}\\ncorresponding result is {result}')\n",
    "print('---------------------------------------------------------------')\n",
    "\n",
    "for i in range(len(result)):\n",
    "    print(f'input_shape is {node_constraint[\"input_shape\"]}')\n",
    "    layout_info=splitcat_node.get_layout_info(param=result[i],shape=node_constraint[\"input_shape\"])\n",
    "    print(f'result[{i}] is {result[i]}')\n",
    "    print(f'layout_info is {layout_info}')\n",
    "    print(\"--------------------------------------------------\")\n",
    "\n"
   ]
  },
  {
   "cell_type": "code",
   "execution_count": 8,
   "metadata": {},
   "outputs": [
    {
     "name": "stdout",
     "output_type": "stream",
     "text": [
      "----------------------\n",
      "cell_topology is OrderedDict([(1, [0]), (2, [1]), (3, [1]), (4, [1]), (5, [1]), (6, [2]), (7, [3]), (8, [4]), (9, [5]), (10, [6, 7, 8, 9]), (11, [10])])\n",
      "split_tree is OrderedDict([(1, [None]), (2, [0]), (3, [1]), (4, [2]), (5, [3]), (6, [None]), (7, [None]), (8, [None]), (9, [None]), (10, [None, None, None, None]), (11, [None])])\n",
      "shape_info is OrderedDict([(0, [[64, 3, 64, 64]]), (1, [[64, 3, 64, 64]]), (2, [[64, 3, 64, 16]]), (3, [[64, 3, 64, 16]]), (4, [[64, 3, 64, 16]]), (5, [[64, 3, 64, 16]]), (6, [[64, 3, 64, 16]]), (7, [[64, 3, 64, 16]]), (8, [[64, 3, 64, 16]]), (9, [[64, 3, 64, 16]]), (10, [[64, 3, 64, 16], [64, 3, 64, 16], [64, 3, 64, 16], [64, 3, 64, 16]]), (11, [[64, 3, 64, 64]])])\n",
      "op_phase is [-1, 1, 1, 1, 1, 2, 2, 2, 2, -2, 3]\n",
      "\n",
      "subnode_list is ModuleList(\n",
      "  (0): SplitWrapper()\n",
      "  (1): Linear(in_features=16, out_features=16, bias=True)\n",
      "  (2): Sequential(\n",
      "    (Conv): Conv2d(3, 3, kernel_size=(5, 3), stride=(1, 1), padding=(2, 2), dilation=(1, 2), groups=3, bias=False)\n",
      "    (pointwiseConv): Conv2d(3, 3, kernel_size=(1, 1), stride=(1, 1), bias=False)\n",
      "  )\n",
      "  (3): ConvTranspose2d(3, 3, kernel_size=(7, 3), stride=(1, 1), padding=(3, 1))\n",
      "  (4): ConvTranspose2d(3, 3, kernel_size=(3, 1), stride=(1, 1), padding=(1, 0))\n",
      "  (5): BatchNorm2d(3, eps=1e-05, momentum=0.2, affine=False, track_running_stats=True)\n",
      "  (6): BatchNorm2d(3, eps=0.01, momentum=0.30000000000000004, affine=True, track_running_stats=True)\n",
      "  (7): Dropout(p=0.5, inplace=False)\n",
      "  (8): GroupNorm(3, 3, eps=0.0001, affine=True)\n",
      "  (9): CatWrapper()\n",
      "  (10): Sigmoid()\n",
      ")\n",
      "-----------------------------------\n",
      "cell_topology is OrderedDict([(1, [0]), (2, [1]), (3, [1]), (4, [1]), (5, [1]), (6, [2]), (7, [3]), (8, [4]), (9, [5]), (10, [6, 7, 8, 9]), (11, [10])])\n",
      "-----------------------------------\n",
      "split_tree is OrderedDict([(1, [None]), (2, [0]), (3, [1]), (4, [2]), (5, [3]), (6, [None]), (7, [None]), (8, [None]), (9, [None]), (10, [None, None, None, None]), (11, [None])])\n",
      "-----------------------------------\n",
      "shape_info is OrderedDict([(0, [[64, 3, 64, 64]]), (1, [[64, 3, 64, 64]]), (2, [[64, 3, 64, 16]]), (3, [[64, 3, 64, 16]]), (4, [[64, 3, 64, 16]]), (5, [[64, 3, 64, 16]]), (6, [[64, 3, 64, 16]]), (7, [[64, 3, 64, 16]]), (8, [[64, 3, 64, 16]]), (9, [[64, 3, 64, 16]]), (10, [[64, 3, 64, 16], [64, 3, 64, 16], [64, 3, 64, 16], [64, 3, 64, 16]]), (11, [[64, 3, 64, 64]])])\n",
      "-----------------------------------\n"
     ]
    }
   ],
   "source": [
    "# test get_cell\n",
    "subnode_list, cell_topology, split_tree, shape_info=opp.get_cell([64,3,64,64])\n",
    "print(f'subnode_list is {subnode_list}')\n",
    "print('-----------------------------------')\n",
    "'''\n",
    "cell_topology is OrderedDict([(1, [0]), (2, [1]), (3, [1]), (4, [1]), (5, [1]), (6, [2]), (7, [3]), (8, [4]), (9, [5]), (10, [6, 7, 8, 9]), (11, [10])])\n",
    "\n",
    "split_tree is OrderedDict([(1, [None]), (2, [0]), (3, [1]), (4, [2]), (5, [3]), (6, [None]), (7, [None]), (8, [None]), (9, [None]), (10, [None, None, None, None]), (11, [None])])\n",
    "\n",
    "shape_info is OrderedDict([(0, [[64, 3, 64, 64]]), (1, [[64, 3, 64, 64]]), (2, [[64, 3, 64, 16]]), (3, [[64, 3, 64, 16]]), (4, [[64, 3, 64, 16]]), (5, [[64, 3, 64, 16]]), (6, [[64, 3, 64, 16]]), (7, [[64, 3, 64, 16]]), (8, [[64, 3, 64, 16]]), (9, [[64, 3, 64, 16]]), (10, [[64, 3, 64, 16], [64, 3, 64, 16], [64, 3, 64, 16], [64, 3, 64, 16]]), (11, [[64, 3, 64, 64]])])\n",
    "\n",
    "op_phase is [-1, 1, 1, 1, 1, 2, 2, 2, 2, -2, 3]\n",
    "\n",
    "subnode_list is ModuleList(\n",
    "  (0): SplitWrapper()\n",
    "  (1): Linear(in_features=16, out_features=16, bias=True)\n",
    "  (2): Sequential(\n",
    "    (Conv): Conv2d(3, 3, kernel_size=(5, 3), stride=(1, 1), padding=(2, 2), dilation=(1, 2), groups=3, bias=False)\n",
    "    (pointwiseConv): Conv2d(3, 3, kernel_size=(1, 1), stride=(1, 1), bias=False)\n",
    "  )\n",
    "  (3): ConvTranspose2d(3, 3, kernel_size=(7, 3), stride=(1, 1), padding=(3, 1))\n",
    "  (4): ConvTranspose2d(3, 3, kernel_size=(3, 1), stride=(1, 1), padding=(1, 0))\n",
    "  (5): BatchNorm2d(3, eps=1e-05, momentum=0.2, affine=False, track_running_stats=True)\n",
    "  (6): BatchNorm2d(3, eps=0.01, momentum=0.30000000000000004, affine=True, track_running_stats=True)\n",
    "  (7): Dropout(p=0.5, inplace=False)\n",
    "  (8): GroupNorm(3, 3, eps=0.0001, affine=True)\n",
    "  (9): CatWrapper()\n",
    "  (10): Sigmoid()\n",
    ")\n",
    ")\n",
    "\n",
    "the corresponding op_phase is [-1, 1, 1, 1, 1, 2, 2, 2, 2, -2, 3]\n",
    "'''\n",
    "\n",
    "print(f'cell_topology is {cell_topology}')\n",
    "print('-----------------------------------')\n",
    "print(f'split_tree is {split_tree}')\n",
    "print('-----------------------------------')\n",
    "print(f'shape_info is {shape_info}')\n",
    "print('-----------------------------------')"
   ]
  },
  {
   "cell_type": "code",
   "execution_count": 11,
   "metadata": {},
   "outputs": [
    {
     "name": "stdout",
     "output_type": "stream",
     "text": [
      "LambdaTest(a=1,b=2) is <function LambdaTest.<locals>.<lambda> at 0x7fe5b8569dd0>\n",
      "-------------------------------------\n",
      "LambdaTest(a=1,b=2)(c=3,d=4,e=5,f=6) is 21\n"
     ]
    }
   ],
   "source": [
    "#test lambda\n",
    "def LambdaTest(a,b):\n",
    "    return lambda c,d,e,f: a+b+c+d+e+f\n",
    "\n",
    "\n",
    "print(f'LambdaTest(a=1,b=2) is {LambdaTest(a=1,b=2)}')\n",
    "print('-------------------------------------')\n",
    "print(f'LambdaTest(a=1,b=2)(c=3,d=4,e=5,f=6) is {LambdaTest(a=1,b=2)(c=3,d=4,e=5,f=6)}')"
   ]
  }
 ],
 "metadata": {
  "interpreter": {
   "hash": "a2a57890d1299f7aa430e8b8e6c67595aeabd74674501c6e27f5e6e4d47165b0"
  },
  "kernelspec": {
   "display_name": "Python 3.7.13 ('ruochenTVM')",
   "language": "python",
   "name": "python3"
  },
  "language_info": {
   "codemirror_mode": {
    "name": "ipython",
    "version": 3
   },
   "file_extension": ".py",
   "mimetype": "text/x-python",
   "name": "python",
   "nbconvert_exporter": "python",
   "pygments_lexer": "ipython3",
   "version": "3.7.13"
  },
  "orig_nbformat": 4
 },
 "nbformat": 4,
 "nbformat_minor": 2
}
