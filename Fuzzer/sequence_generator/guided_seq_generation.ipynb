{
 "cells": [
  {
   "cell_type": "code",
   "execution_count": 4,
   "id": "4c435d57",
   "metadata": {},
   "outputs": [],
   "source": [
    "import sequence_generation\n",
    "import numpy as np\n",
    "import os\n",
    "import torch\n",
    "from sequence_generation import gen_sequence_location\n",
    "import config\n",
    "from pass_analysis_util import get_all_passes_tvm\n",
    "from config import test_passes"
   ]
  },
  {
   "cell_type": "code",
   "execution_count": 2,
   "id": "0c839369",
   "metadata": {},
   "outputs": [],
   "source": [
    "seq_generator = sequence_generation.GASeqGenerator()"
   ]
  },
  {
   "cell_type": "code",
   "execution_count": 3,
   "id": "1135ef54",
   "metadata": {
    "scrolled": true
   },
   "outputs": [
    {
     "name": "stderr",
     "output_type": "stream",
     "text": [
      "100%|██████████| 475/475 [01:36<00:00,  4.92it/s]\n"
     ]
    }
   ],
   "source": [
    "seq_generator.generate_sequences()"
   ]
  },
  {
   "cell_type": "code",
   "execution_count": 17,
   "id": "5f042bae",
   "metadata": {},
   "outputs": [],
   "source": [
    "random_seq_generator = sequence_generation.GASeqGenerator(init_random_num=500)"
   ]
  },
  {
   "cell_type": "code",
   "execution_count": 15,
   "id": "6ed3c797",
   "metadata": {},
   "outputs": [
    {
     "data": {
      "text/plain": [
       "0.44011014245014246"
      ]
     },
     "execution_count": 15,
     "metadata": {},
     "output_type": "execute_result"
    }
   ],
   "source": [
    "seq_generator.get_diversity_of_sequnces()"
   ]
  },
  {
   "cell_type": "code",
   "execution_count": 18,
   "id": "1c214305",
   "metadata": {},
   "outputs": [
    {
     "data": {
      "text/plain": [
       "0.38561555555555516"
      ]
     },
     "execution_count": 18,
     "metadata": {},
     "output_type": "execute_result"
    }
   ],
   "source": [
    "random_seq_generator.get_diversity_of_sequnces()"
   ]
  },
  {
   "cell_type": "code",
   "execution_count": 5,
   "id": "136c68cf",
   "metadata": {},
   "outputs": [
    {
     "data": {
      "text/plain": [
       "28"
      ]
     },
     "execution_count": 5,
     "metadata": {},
     "output_type": "execute_result"
    }
   ],
   "source": [
    "len(config.test_passes)"
   ]
  },
  {
   "cell_type": "markdown",
   "id": "e48b82d2",
   "metadata": {},
   "source": [
    "## result"
   ]
  },
  {
   "cell_type": "code",
   "execution_count": null,
   "id": "a0c36cdc",
   "metadata": {},
   "outputs": [],
   "source": [
    "Score of GA: 0.44115452991452986\n",
    "Score of random: 0.3850457549857547"
   ]
  }
 ],
 "metadata": {
  "kernelspec": {
   "display_name": "Python 3 (ipykernel)",
   "language": "python",
   "name": "python3"
  },
  "language_info": {
   "codemirror_mode": {
    "name": "ipython",
    "version": 3
   },
   "file_extension": ".py",
   "mimetype": "text/x-python",
   "name": "python",
   "nbconvert_exporter": "python",
   "pygments_lexer": "ipython3",
   "version": "3.9.7"
  }
 },
 "nbformat": 4,
 "nbformat_minor": 5
}
